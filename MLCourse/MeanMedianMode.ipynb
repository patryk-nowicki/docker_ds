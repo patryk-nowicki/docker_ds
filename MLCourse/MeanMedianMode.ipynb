{
 "cells": [
  {
   "cell_type": "markdown",
   "metadata": {},
   "source": [
    "# Mean, Median, Mode, and introducing NumPy"
   ]
  },
  {
   "cell_type": "markdown",
   "metadata": {},
   "source": [
    "## Mean vs. Median"
   ]
  },
  {
   "cell_type": "markdown",
   "metadata": {},
   "source": [
    "Let's create some fake income data, centered around 27,000 with a normal distribution and standard deviation of 15,000, with 10,000 data points. (We'll discuss those terms more later, if you're not familiar with them.)\n",
    "\n",
    "Then, compute the mean (average) - it should be close to 27,000:"
   ]
  },
  {
   "cell_type": "code",
   "execution_count": 1,
   "metadata": {},
   "outputs": [
    {
     "data": {
      "text/plain": [
       "27125.09025391587"
      ]
     },
     "execution_count": 1,
     "metadata": {},
     "output_type": "execute_result"
    }
   ],
   "source": [
    "import numpy as np\n",
    "\n",
    "incomes = np.random.normal(27000, 15000, 10000)\n",
    "np.mean(incomes)"
   ]
  },
  {
   "cell_type": "markdown",
   "metadata": {},
   "source": [
    "We can segment the income data into 50 buckets, and plot it as a histogram:"
   ]
  },
  {
   "cell_type": "code",
   "execution_count": 2,
   "metadata": {},
   "outputs": [
    {
     "data": {
      "image/png": "[encoded data removed]",
      "text/plain": [
       "<Figure size 432x288 with 1 Axes>"
      ]
     },
     "metadata": {
      "needs_background": "light"
     },
     "output_type": "display_data"
    }
   ],
   "source": [
    "%matplotlib inline\n",
    "import matplotlib.pyplot as plt\n",
    "plt.hist(incomes, 50)\n",
    "plt.show()"
   ]
  },
  {
   "cell_type": "markdown",
   "metadata": {},
   "source": [
    "Now compute the median - since we have a nice, even distribution it too should be close to 27,000:"
   ]
  },
  {
   "cell_type": "code",
   "execution_count": 3,
   "metadata": {},
   "outputs": [
    {
     "data": {
      "text/plain": [
       "27228.346160956142"
      ]
     },
     "execution_count": 3,
     "metadata": {},
     "output_type": "execute_result"
    }
   ],
   "source": [
    "np.median(incomes)"
   ]
  },
  {
   "cell_type": "markdown",
   "metadata": {},
   "source": [
    "Now we'll add Jeff Bezos into the mix. Darn income inequality!"
   ]
  },
  {
   "cell_type": "code",
   "execution_count": 4,
   "metadata": {},
   "outputs": [],
   "source": [
    "incomes = np.append(incomes, [1000000000])"
   ]
  },
  {
   "cell_type": "markdown",
   "metadata": {},
   "source": [
    "The median won't change much, but the mean does:"
   ]
  },
  {
   "cell_type": "code",
   "execution_count": 5,
   "metadata": {},
   "outputs": [
    {
     "data": {
      "text/plain": [
       "27229.985692396724"
      ]
     },
     "execution_count": 5,
     "metadata": {},
     "output_type": "execute_result"
    }
   ],
   "source": [
    "np.median(incomes)"
   ]
  },
  {
   "cell_type": "code",
   "execution_count": 6,
   "metadata": {},
   "outputs": [
    {
     "data": {
      "text/plain": [
       "127112.37901601428"
      ]
     },
     "execution_count": 6,
     "metadata": {},
     "output_type": "execute_result"
    }
   ],
   "source": [
    "np.mean(incomes)"
   ]
  },
  {
   "cell_type": "markdown",
   "metadata": {},
   "source": [
    "## Mode"
   ]
  },
  {
   "cell_type": "markdown",
   "metadata": {},
   "source": [
    "Next, let's generate some fake age data for 500 people:"
   ]
  },
  {
   "cell_type": "code",
   "execution_count": 7,
   "metadata": {},
   "outputs": [
    {
     "data": {
      "text/plain": [
       "array([49, 28, 49, 51, 82, 24, 84, 30, 75, 70, 58, 85, 27, 60, 22, 81, 20,\n",
       "       71, 75, 86, 31, 81, 33, 42, 66, 63, 28, 42, 80, 31, 70, 55, 75, 52,\n",
       "       25, 80, 49, 20, 45, 22, 89, 70, 40, 81, 53, 29, 69, 49, 74, 62, 45,\n",
       "       62, 27, 23, 76, 75, 23, 82, 77, 63, 61, 75, 76, 80, 56, 72, 74, 75,\n",
       "       49, 88, 29, 58, 48, 64, 63, 61, 51, 62, 48, 82, 42, 88, 25, 76, 24,\n",
       "       85, 24, 21, 58, 31, 83, 69, 24, 40, 74, 49, 39, 40, 34, 53, 68, 72,\n",
       "       22, 40, 50, 43, 75, 86, 42, 57, 72, 25, 73, 46, 38, 32, 58, 61, 36,\n",
       "       49, 57, 73, 59, 30, 48, 25, 62, 19, 59, 34, 22, 32, 69, 88, 32, 36,\n",
       "       86, 68, 85, 57, 25, 22, 23, 45, 48, 61, 61, 64, 73, 54, 34, 78, 37,\n",
       "       75, 54, 44, 84, 65, 49, 78, 28, 81, 59, 46, 71, 40, 89, 46, 23, 82,\n",
       "       88, 50, 86, 56, 70, 21, 31, 50, 34, 56, 50, 49, 83, 55, 42, 29, 59,\n",
       "       38, 34, 57, 25, 19, 28, 39, 37, 42, 86, 36, 43, 49, 27, 54, 55, 59,\n",
       "       39, 87, 67, 71, 53, 75, 53, 48, 55, 50, 25, 32, 72, 26, 29, 63, 61,\n",
       "       42, 60, 38, 57, 69, 81, 42, 42, 88, 38, 40, 32, 82, 52, 26, 62, 22,\n",
       "       35, 61, 44, 85, 49, 29, 49, 51, 50, 72, 56, 47, 59, 59, 69, 71, 25,\n",
       "       61, 66, 48, 39, 43, 44, 88, 79, 84, 64, 61, 33, 55, 47, 70, 53, 19,\n",
       "       37, 68, 40, 20, 74, 73, 53, 85, 46, 25, 63, 87, 18, 49, 31, 35, 67,\n",
       "       85, 58, 33, 35, 30, 89, 74, 64, 57, 60, 72, 47, 23, 80, 53, 34, 52,\n",
       "       86, 27, 62, 87, 75, 85, 79, 51, 74, 54, 55, 65, 82, 56, 20, 31, 56,\n",
       "       54, 79, 73, 18, 42, 50, 64, 18, 77, 80, 59, 29, 71, 74, 25, 79, 56,\n",
       "       84, 89, 51, 34, 55, 19, 87, 33, 45, 40, 66, 44, 84, 18, 62, 33, 81,\n",
       "       62, 59, 63, 48, 73, 42, 42, 67, 61, 89, 23, 83, 55, 73, 34, 42, 73,\n",
       "       75, 75, 54, 30, 43, 48, 61, 69, 83, 65, 83, 71, 29, 49, 67, 88, 74,\n",
       "       67, 25, 65, 78, 84, 18, 41, 36, 58, 52, 19, 45, 33, 21, 88, 30, 22,\n",
       "       63, 40, 64, 54, 68, 33, 49, 51, 38, 82, 24, 36, 81, 28, 60, 28, 36,\n",
       "       38, 85, 83, 54, 56, 20, 55, 67, 63, 56, 84, 78, 43, 45, 33, 40, 38,\n",
       "       31, 36, 71, 50, 68, 47, 79, 70, 55, 26, 28, 53, 72, 48, 30, 25, 70,\n",
       "       82, 73, 30, 45, 66, 89, 31, 60, 69, 78, 40, 29, 53, 35, 45, 70, 79,\n",
       "       20, 44, 68, 87, 19, 36, 18, 87, 56, 77, 45, 53, 83, 56, 71, 62, 72,\n",
       "       71, 64, 32, 44, 53, 38, 73])"
      ]
     },
     "execution_count": 7,
     "metadata": {},
     "output_type": "execute_result"
    }
   ],
   "source": [
    "ages = np.random.randint(18, high=90, size=500)\n",
    "ages"
   ]
  },
  {
   "cell_type": "code",
   "execution_count": 8,
   "metadata": {},
   "outputs": [
    {
     "data": {
      "text/plain": [
       "ModeResult(mode=array([49]), count=array([15]))"
      ]
     },
     "execution_count": 8,
     "metadata": {},
     "output_type": "execute_result"
    }
   ],
   "source": [
    "from scipy import stats\n",
    "stats.mode(ages)"
   ]
  },
  {
   "cell_type": "code",
   "execution_count": null,
   "metadata": {},
   "outputs": [],
   "source": []
  }
 ],
 "metadata": {
  "kernelspec": {
   "display_name": "Python 3",
   "language": "python",
   "name": "python3"
  },
  "language_info": {
   "codemirror_mode": {
    "name": "ipython",
    "version": 3
   },
   "file_extension": ".py",
   "mimetype": "text/x-python",
   "name": "python",
   "nbconvert_exporter": "python",
   "pygments_lexer": "ipython3",
   "version": "3.8.5"
  }
 },
 "nbformat": 4,
 "nbformat_minor": 1
}
